{
 "cells": [
  {
   "cell_type": "code",
   "execution_count": 1,
   "id": "94bcb9dc-34e6-4a5b-ad62-c58a2f2aaf8d",
   "metadata": {},
   "outputs": [],
   "source": [
    "import pandas as pd\n",
    "import matplotlib.pyplot as plt\n",
    "%matplotlib inline"
   ]
  },
  {
   "cell_type": "code",
   "execution_count": 41,
   "id": "e4965c5a-5a22-4d0c-b3d3-16b365143026",
   "metadata": {},
   "outputs": [
    {
     "data": {
      "text/html": [
       "<div>\n",
       "<style scoped>\n",
       "    .dataframe tbody tr th:only-of-type {\n",
       "        vertical-align: middle;\n",
       "    }\n",
       "\n",
       "    .dataframe tbody tr th {\n",
       "        vertical-align: top;\n",
       "    }\n",
       "\n",
       "    .dataframe thead th {\n",
       "        text-align: right;\n",
       "    }\n",
       "</style>\n",
       "<table border=\"1\" class=\"dataframe\">\n",
       "  <thead>\n",
       "    <tr style=\"text-align: right;\">\n",
       "      <th></th>\n",
       "      <th>Produkt</th>\n",
       "      <th>Summe aus Qrtl 1</th>\n",
       "      <th>Summe aus Qrtl 2</th>\n",
       "      <th>Summe aus Qrtl 3</th>\n",
       "      <th>Summe aus Qrtl 4</th>\n",
       "    </tr>\n",
       "  </thead>\n",
       "  <tbody>\n",
       "    <tr>\n",
       "      <th>0</th>\n",
       "      <td>Alice Mutton</td>\n",
       "      <td>2667.60</td>\n",
       "      <td>4013.1</td>\n",
       "      <td>4836.00</td>\n",
       "      <td>6087.9</td>\n",
       "    </tr>\n",
       "    <tr>\n",
       "      <th>1</th>\n",
       "      <td>Aniseed Syrup</td>\n",
       "      <td>544.00</td>\n",
       "      <td>600.0</td>\n",
       "      <td>140.00</td>\n",
       "      <td>440.0</td>\n",
       "    </tr>\n",
       "    <tr>\n",
       "      <th>2</th>\n",
       "      <td>Boston Crab Meat</td>\n",
       "      <td>1768.41</td>\n",
       "      <td>1978.0</td>\n",
       "      <td>4412.32</td>\n",
       "      <td>1656.0</td>\n",
       "    </tr>\n",
       "    <tr>\n",
       "      <th>3</th>\n",
       "      <td>Camembert Pierrot</td>\n",
       "      <td>3182.40</td>\n",
       "      <td>4683.5</td>\n",
       "      <td>9579.50</td>\n",
       "      <td>3060.0</td>\n",
       "    </tr>\n",
       "    <tr>\n",
       "      <th>4</th>\n",
       "      <td>Chef Anton's Cajun Seasoning</td>\n",
       "      <td>225.28</td>\n",
       "      <td>2970.0</td>\n",
       "      <td>1337.60</td>\n",
       "      <td>682.0</td>\n",
       "    </tr>\n",
       "  </tbody>\n",
       "</table>\n",
       "</div>"
      ],
      "text/plain": [
       "                        Produkt  Summe aus Qrtl 1  Summe aus Qrtl 2  \\\n",
       "0                  Alice Mutton           2667.60            4013.1   \n",
       "1                 Aniseed Syrup            544.00             600.0   \n",
       "2              Boston Crab Meat           1768.41            1978.0   \n",
       "3             Camembert Pierrot           3182.40            4683.5   \n",
       "4  Chef Anton's Cajun Seasoning            225.28            2970.0   \n",
       "\n",
       "   Summe aus Qrtl 3  Summe aus Qrtl 4  \n",
       "0           4836.00            6087.9  \n",
       "1            140.00             440.0  \n",
       "2           4412.32            1656.0  \n",
       "3           9579.50            3060.0  \n",
       "4           1337.60             682.0  "
      ]
     },
     "execution_count": 41,
     "metadata": {},
     "output_type": "execute_result"
    }
   ],
   "source": [
    "df = pd.read_excel(r\"101_Umsatzbericht.xltx\", sheet_name='Nach Produkt', header = 6) #Pfad zur Excel Datei und Tabellenblatt und Überschriftenzeile\n",
    "df.head() #Nicht unbedingt benötigt, nur dass man die tabelle hier sieht"
   ]
  },
  {
   "cell_type": "code",
   "execution_count": 44,
   "id": "759dd728-150d-4c6c-80e5-ea5a8d75ae42",
   "metadata": {},
   "outputs": [
    {
     "name": "stdout",
     "output_type": "stream",
     "text": [
      "Summe der Umsätze in Quartal 1, für sämtliche Produkte\n",
      "                             Produkt  Summe aus Qrtl 1\n",
      "0                       Alice Mutton           2667.60\n",
      "1                      Aniseed Syrup            544.00\n",
      "2                   Boston Crab Meat           1768.41\n",
      "3                  Camembert Pierrot           3182.40\n",
      "4       Chef Anton's Cajun Seasoning            225.28\n",
      "5             Chef Anton's Gumbo Mix              0.00\n",
      "6                           Filo Mix            187.60\n",
      "7                  Gorgonzola Telino            464.50\n",
      "8       Grandma's Boysenberry Spread              0.00\n",
      "9                        Ipoh Coffee           1398.40\n",
      "10   Jack's New England Clam Chowder            385.00\n",
      "11         Laughing Lumberjack Lager              0.00\n",
      "12                     Longlife Tofu            488.00\n",
      "13  Louisiana Fiery Hot Pepper Sauce           1347.36\n",
      "14         Louisiana Hot Spiced Okra           1509.60\n",
      "15            Mozzarella di Giovanni           1390.00\n",
      "16        Northwoods Cranberry Sauce              0.00\n",
      "17                    Ravioli Angelo            499.20\n",
      "18                     Sasquatch Ale            551.60\n",
      "19            Sir Rodney's Marmalade              0.00\n",
      "20               Sir Rodney's Scones           1462.00\n",
      "21                    Steeleye Stout           1310.40\n",
      "22        Teatime Chocolate Biscuits            943.89\n",
      "23   Uncle Bob's Organic Dried Pears           1084.80\n",
      "24                     Veggie-spread           3202.87\n",
      "25                       Grand Total          24612.91\n"
     ]
    }
   ],
   "source": [
    "    quartal = input(\"Quartal eingeben(1/2/3/4): \") #Variable für quartal\n",
    "    if quartal == '1'or quartal == '2' or quartal == '3' or quartal == '4': #if Bedingung damit auch eine korrekte Zahl ausgegeben wird. Evtl durch loop austauschen?\n",
    "        sortierung = input(\"'Produkte' oder 'Kunden' wählen:\") #Variable für Sortierung(Kunden/Produkte)\n",
    "        print(\"Summe der Umsätze in Quartal \" + quartal + \", für sämtliche \" + sortierung) #Kleine Überschrift damit man sieht was das Programm einem hier überhaupt anzeigt\n",
    "        spalten = ['Produkt', 'Kunde', 'Summe aus Qrtl 1', 'Summe aus Qrtl 2', 'Summe aus Qrtl 3', 'Summe aus Qrtl 4',] #variable für die spalten aus der tabelle\n",
    "        \n",
    "        if sortierung == 'Produkte':\n",
    "            if quartal == '1':\n",
    "                spalten = ['Produkt','Summe aus Qrtl 1']  #Welche Spalten gedruckt werden sollen\n",
    "            elif quartal == '2':\n",
    "                spalten = ['Produkt','Summe aus Qrtl 2']\n",
    "            elif quartal == '3':\n",
    "                spalten = ['Produkt','Summe aus Qrtl 3']\n",
    "            elif quartal == '4':\n",
    "                spalten = ['Produkt','Summe aus Qrtl 4']\n",
    "\n",
    "\n",
    "        elif sortierung == 'Kunden':\n",
    "            if quartal == '1':\n",
    "                spalten = ['Kunde','Summe aus Qrtl 1']  #Das gleiche für die Kunden - sortierung\n",
    "            elif quartal == '2':\n",
    "                spalten = ['Kunde','Summe aus Qrtl 2']\n",
    "            elif quartal == '3':\n",
    "                spalten = ['Kunde','Summe aus Qrtl 3']\n",
    "            elif quartal == '4':\n",
    "                spalten = ['Kunde','Summe aus Qrtl 4']\n",
    "\n",
    "            \n",
    "        df = df[spalten]\n",
    "        print(df)  \n",
    "        \n",
    "    else: \n",
    "        print(\"Falsche Eingabe, bitte erneuert versuchen\")"
   ]
  }
 ],
 "metadata": {
  "kernelspec": {
   "display_name": "base",
   "language": "python",
   "name": "python3"
  },
  "language_info": {
   "codemirror_mode": {
    "name": "ipython",
    "version": 3
   },
   "file_extension": ".py",
   "mimetype": "text/x-python",
   "name": "python",
   "nbconvert_exporter": "python",
   "pygments_lexer": "ipython3",
   "version": "3.9.13"
  },
  "vscode": {
   "interpreter": {
    "hash": "6a377f86bc94e62f5e46c1e0aff9bcd5f83a81a6562c6acd1bace85a5b888d3a"
   }
  }
 },
 "nbformat": 4,
 "nbformat_minor": 5
}
